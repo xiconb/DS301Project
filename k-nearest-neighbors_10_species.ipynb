{
 "cells": [
  {
   "cell_type": "code",
   "execution_count": 1,
   "metadata": {},
   "outputs": [],
   "source": [
    "# TRUMPTER SWAN : 0\n",
    "# QUETZAL : 1\n",
    "# FLAMINGO : 2\n",
    "# PELICAN : 3\n",
    "# WILD TURKEY : 4\n",
    "# BALD EAGLE : 5\n",
    "# INDIGO BUNTING : 6\n",
    "# TOUCHAN : 7\n",
    "# SNOWY OWL : 8\n",
    "# AMERICAN GOLDFINCH : 9"
   ]
  },
  {
   "cell_type": "code",
   "execution_count": 2,
   "metadata": {},
   "outputs": [],
   "source": [
    "# Imports\n",
    "from matplotlib import image\n",
    "from matplotlib import pyplot\n",
    "import pandas as pd\n",
    "import os\n",
    "import numpy as np\n",
    "from sklearn.neighbors import KNeighborsClassifier\n",
    "from sklearn import metrics"
   ]
  },
  {
   "cell_type": "code",
   "execution_count": 3,
   "metadata": {},
   "outputs": [],
   "source": [
    "def convert_to_feature_vector(image_path):\n",
    "    \"\"\"\n",
    "    Convert the given image to a feature vector in the form of a pixel array.\n",
    "    :param image_path: relative path to the desired image\n",
    "    \"\"\"\n",
    "    \n",
    "    # Get a pixel array of the given image\n",
    "    pixel_arr = image.imread(image_path)\n",
    "\n",
    "    # Get dimentions of the given image\n",
    "    length, height, depth = pixel_arr.shape\n",
    "    \n",
    "    # Return reshaped 1-D array\n",
    "    return pixel_arr.reshape((length * height * depth, 1)).flatten()"
   ]
  },
  {
   "cell_type": "code",
   "execution_count": 4,
   "metadata": {},
   "outputs": [],
   "source": [
    "# Map species names to numeric lables\n",
    "species_map = {'TRUMPTER SWAN': 0, 'QUETZAL': 1, 'FLAMINGO': 2, 'PELICAN': 3, 'WILD TURKEY': 4, \n",
    "               'BALD EAGLE': 5, 'INDIGO BUNTING': 6, 'TOUCHAN': 7, 'SNOWY OWL': 8, 'AMERICAN GOLDFINCH': 9}\n",
    "\n",
    "def get_test_train_sets():\n",
    "    # Load the training data\n",
    "    train_df = pd.read_csv('./dataset/10_Bird_Species_train.csv')\n",
    "\n",
    "    # Replace species names with their numeric labels\n",
    "    train_df = train_df.replace({'label': species_map})\n",
    "\n",
    "    # Get the training feature vectors\n",
    "    train_df['feature_vector'] = train_df['path'].apply(lambda row: convert_to_feature_vector(row))\n",
    "    \n",
    "    # Load the testing data\n",
    "    test_df = pd.read_csv('./dataset/10_Bird_Species_test.csv')\n",
    "    \n",
    "    # Replace species names with their numberic labels\n",
    "    test_df = test_df.replace({'label': species_map})\n",
    "    \n",
    "    # Get the test feature vectors\n",
    "    test_df['feature_vector'] = test_df['path'].apply(lambda row: convert_to_feature_vector(row))\n",
    "    \n",
    "    # Return the x train, y train, x test, y test\n",
    "    return np.stack(train_df['feature_vector']), train_df['label'], np.stack(test_df['feature_vector']), test_df['label']"
   ]
  },
  {
   "cell_type": "code",
   "execution_count": 5,
   "metadata": {},
   "outputs": [],
   "source": [
    "# Get the training data and labels\n",
    "x_train, y_train, x_test, y_test = get_test_train_sets()"
   ]
  },
  {
   "cell_type": "code",
   "execution_count": 6,
   "metadata": {},
   "outputs": [
    {
     "data": {
      "text/plain": [
       "KNeighborsClassifier(n_neighbors=3)"
      ]
     },
     "execution_count": 6,
     "metadata": {},
     "output_type": "execute_result"
    }
   ],
   "source": [
    "# Train a KNN model\n",
    "model = KNeighborsClassifier(n_neighbors=3)\n",
    "model.fit(x_train, y_train)"
   ]
  },
  {
   "cell_type": "code",
   "execution_count": 7,
   "metadata": {},
   "outputs": [
    {
     "name": "stdout",
     "output_type": "stream",
     "text": [
      "0.68\n"
     ]
    }
   ],
   "source": [
    "# Get the test set accuracy score\n",
    "print(metrics.accuracy_score(y_test, model.predict(x_test)))"
   ]
  }
 ],
 "metadata": {
  "kernelspec": {
   "display_name": "DS301Environment",
   "language": "python",
   "name": "ds301environment"
  },
  "language_info": {
   "codemirror_mode": {
    "name": "ipython",
    "version": 3
   },
   "file_extension": ".py",
   "mimetype": "text/x-python",
   "name": "python",
   "nbconvert_exporter": "python",
   "pygments_lexer": "ipython3",
   "version": "3.8.11"
  }
 },
 "nbformat": 4,
 "nbformat_minor": 2
}
