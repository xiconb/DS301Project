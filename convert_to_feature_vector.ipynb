{
 "cells": [
  {
   "cell_type": "code",
   "execution_count": 7,
   "metadata": {},
   "outputs": [],
   "source": [
    "from matplotlib import image\n",
    "from matplotlib import pyplot"
   ]
  },
  {
   "cell_type": "code",
   "execution_count": 8,
   "metadata": {},
   "outputs": [],
   "source": [
    "def convert_to_feature_vector(image_path):\n",
    "    \"\"\"\n",
    "    Convert the given image to a feature vector in the form of a pixel array.\n",
    "    :param image_path: relative path to the desired image\n",
    "    \"\"\"\n",
    "    \n",
    "    # Get a pixel array of the given image\n",
    "    pixel_arr = image.imread(image_path)\n",
    "\n",
    "    # Get dimentions of the given image\n",
    "    length, height, depth = pixel_arr.shape\n",
    "    \n",
    "    # Return reshaped 1-D array\n",
    "    return pixel_arr.reshape((length * height * depth, 1))"
   ]
  },
  {
   "cell_type": "code",
   "execution_count": 10,
   "metadata": {},
   "outputs": [
    {
     "name": "stdout",
     "output_type": "stream",
     "text": [
      "(150528, 1)\n"
     ]
    }
   ],
   "source": [
    "print(convert_to_feature_vector(r\"./test/AFRICAN CROWNED CRANE/2.jpg\").shape)"
   ]
  },
  {
   "cell_type": "code",
   "execution_count": null,
   "metadata": {},
   "outputs": [],
   "source": []
  }
 ],
 "metadata": {
  "kernelspec": {
   "display_name": "DS301Environment",
   "language": "python",
   "name": "ds301environment"
  },
  "language_info": {
   "codemirror_mode": {
    "name": "ipython",
    "version": 3
   },
   "file_extension": ".py",
   "mimetype": "text/x-python",
   "name": "python",
   "nbconvert_exporter": "python",
   "pygments_lexer": "ipython3",
   "version": "3.8.11"
  }
 },
 "nbformat": 4,
 "nbformat_minor": 2
}
