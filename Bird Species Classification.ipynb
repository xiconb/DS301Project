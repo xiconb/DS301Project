{
 "cells": [
  {
   "cell_type": "markdown",
   "metadata": {},
   "source": [
    "**DS 301: Applied Data Modeling and Predictive Analysis**\n",
    "\n",
    "# Project: Bird Species Classification"
   ]
  },
  {
   "cell_type": "markdown",
   "metadata": {},
   "source": [
    "**Imports and data reading**"
   ]
  },
  {
   "cell_type": "code",
   "execution_count": 1,
   "metadata": {},
   "outputs": [],
   "source": [
    "#image processing\n",
    "#import keras\n",
    "#import numpy as np\n",
    "#from keras.preprocessing.image import ImageDataGenerator\n",
    "#from keras.applications.vgg16 import preprocess_input\n",
    "\n",
    "#option 2 with pytorch\n",
    "import torch\n",
    "import torch.nn as nn\n",
    "import torch.nn.functional as F\n",
    "\n",
    "from torch.utils.data import DataLoader, Dataset\n",
    "from torch.utils.data import RandomSampler\n",
    "#pip install torchvision\n",
    "import torchvision.transforms as T\n",
    "import torchvision.models as models\n",
    "from torchvision.utils import make_grid\n",
    "from torchvision.datasets import ImageFolder\n",
    "\n",
    "#others\n",
    "from sklearn.metrics import classification_report,confusion_matrix\n",
    "\n",
    "#import tensorflow as tf\n",
    "#pip install opencv-python\n",
    "import cv2\n",
    "\n",
    "#usual imports\n",
    "import os\n",
    "import numpy as np\n",
    "import pandas as pd\n",
    "import matplotlib.pyplot as plt\n",
    "import seaborn as sns\n",
    "\n",
    "img_width, img_height = 224, 224\n",
    "nb_train_samples =42622\n",
    "nb_validation_samples = 1500\n",
    "#epochs = 10\n",
    "#batch_size = 16"
   ]
  },
  {
   "cell_type": "code",
   "execution_count": 2,
   "metadata": {},
   "outputs": [
    {
     "data": {
      "text/html": [
       "<div>\n",
       "<style scoped>\n",
       "    .dataframe tbody tr th:only-of-type {\n",
       "        vertical-align: middle;\n",
       "    }\n",
       "\n",
       "    .dataframe tbody tr th {\n",
       "        vertical-align: top;\n",
       "    }\n",
       "\n",
       "    .dataframe thead th {\n",
       "        text-align: right;\n",
       "    }\n",
       "</style>\n",
       "<table border=\"1\" class=\"dataframe\">\n",
       "  <thead>\n",
       "    <tr style=\"text-align: right;\">\n",
       "      <th></th>\n",
       "      <th>filepaths</th>\n",
       "      <th>labels</th>\n",
       "      <th>data set</th>\n",
       "    </tr>\n",
       "  </thead>\n",
       "  <tbody>\n",
       "    <tr>\n",
       "      <th>0</th>\n",
       "      <td>train/AFRICAN CROWNED CRANE/001.jpg</td>\n",
       "      <td>AFRICAN CROWNED CRANE</td>\n",
       "      <td>train</td>\n",
       "    </tr>\n",
       "    <tr>\n",
       "      <th>1</th>\n",
       "      <td>train/AFRICAN CROWNED CRANE/002.jpg</td>\n",
       "      <td>AFRICAN CROWNED CRANE</td>\n",
       "      <td>train</td>\n",
       "    </tr>\n",
       "    <tr>\n",
       "      <th>2</th>\n",
       "      <td>train/AFRICAN CROWNED CRANE/003.jpg</td>\n",
       "      <td>AFRICAN CROWNED CRANE</td>\n",
       "      <td>train</td>\n",
       "    </tr>\n",
       "    <tr>\n",
       "      <th>3</th>\n",
       "      <td>train/AFRICAN CROWNED CRANE/004.jpg</td>\n",
       "      <td>AFRICAN CROWNED CRANE</td>\n",
       "      <td>train</td>\n",
       "    </tr>\n",
       "    <tr>\n",
       "      <th>4</th>\n",
       "      <td>train/AFRICAN CROWNED CRANE/005.jpg</td>\n",
       "      <td>AFRICAN CROWNED CRANE</td>\n",
       "      <td>train</td>\n",
       "    </tr>\n",
       "    <tr>\n",
       "      <th>5</th>\n",
       "      <td>train/AFRICAN CROWNED CRANE/006.jpg</td>\n",
       "      <td>AFRICAN CROWNED CRANE</td>\n",
       "      <td>train</td>\n",
       "    </tr>\n",
       "    <tr>\n",
       "      <th>6</th>\n",
       "      <td>train/AFRICAN CROWNED CRANE/007.jpg</td>\n",
       "      <td>AFRICAN CROWNED CRANE</td>\n",
       "      <td>train</td>\n",
       "    </tr>\n",
       "    <tr>\n",
       "      <th>7</th>\n",
       "      <td>train/AFRICAN CROWNED CRANE/008.jpg</td>\n",
       "      <td>AFRICAN CROWNED CRANE</td>\n",
       "      <td>train</td>\n",
       "    </tr>\n",
       "    <tr>\n",
       "      <th>8</th>\n",
       "      <td>train/AFRICAN CROWNED CRANE/009.jpg</td>\n",
       "      <td>AFRICAN CROWNED CRANE</td>\n",
       "      <td>train</td>\n",
       "    </tr>\n",
       "    <tr>\n",
       "      <th>9</th>\n",
       "      <td>train/AFRICAN CROWNED CRANE/010.jpg</td>\n",
       "      <td>AFRICAN CROWNED CRANE</td>\n",
       "      <td>train</td>\n",
       "    </tr>\n",
       "  </tbody>\n",
       "</table>\n",
       "</div>"
      ],
      "text/plain": [
       "                             filepaths                 labels data set\n",
       "0  train/AFRICAN CROWNED CRANE/001.jpg  AFRICAN CROWNED CRANE    train\n",
       "1  train/AFRICAN CROWNED CRANE/002.jpg  AFRICAN CROWNED CRANE    train\n",
       "2  train/AFRICAN CROWNED CRANE/003.jpg  AFRICAN CROWNED CRANE    train\n",
       "3  train/AFRICAN CROWNED CRANE/004.jpg  AFRICAN CROWNED CRANE    train\n",
       "4  train/AFRICAN CROWNED CRANE/005.jpg  AFRICAN CROWNED CRANE    train\n",
       "5  train/AFRICAN CROWNED CRANE/006.jpg  AFRICAN CROWNED CRANE    train\n",
       "6  train/AFRICAN CROWNED CRANE/007.jpg  AFRICAN CROWNED CRANE    train\n",
       "7  train/AFRICAN CROWNED CRANE/008.jpg  AFRICAN CROWNED CRANE    train\n",
       "8  train/AFRICAN CROWNED CRANE/009.jpg  AFRICAN CROWNED CRANE    train\n",
       "9  train/AFRICAN CROWNED CRANE/010.jpg  AFRICAN CROWNED CRANE    train"
      ]
     },
     "execution_count": 2,
     "metadata": {},
     "output_type": "execute_result"
    }
   ],
   "source": [
    "df= pd.read_csv('Bird Species.csv') \n",
    "df.head(10)"
   ]
  },
  {
   "cell_type": "code",
   "execution_count": null,
   "metadata": {},
   "outputs": [],
   "source": []
  }
 ],
 "metadata": {
  "interpreter": {
   "hash": "07aecca470ddef5b05851bf67872e792259093f61c0252320a4feeffbf755d15"
  },
  "kernelspec": {
   "display_name": "Python 3 (ipykernel)",
   "language": "python",
   "name": "python3"
  },
  "language_info": {
   "codemirror_mode": {
    "name": "ipython",
    "version": 3
   },
   "file_extension": ".py",
   "mimetype": "text/x-python",
   "name": "python",
   "nbconvert_exporter": "python",
   "pygments_lexer": "ipython3",
   "version": "3.8.10"
  }
 },
 "nbformat": 4,
 "nbformat_minor": 2
}
