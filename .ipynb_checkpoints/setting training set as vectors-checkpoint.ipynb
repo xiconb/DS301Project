{
 "cells": [
  {
   "cell_type": "code",
   "execution_count": 2,
   "id": "30788584",
   "metadata": {},
   "outputs": [],
   "source": [
    "from matplotlib import image\n",
    "from matplotlib import pyplot\n",
    "import pandas as pd\n",
    "import os"
   ]
  },
  {
   "cell_type": "code",
   "execution_count": 12,
   "id": "01718dc5",
   "metadata": {},
   "outputs": [],
   "source": [
    "def convert_to_feature_vector(image_path):\n",
    "    \"\"\"\n",
    "    Convert the given image to a feature vector in the form of a pixel array.\n",
    "    :param image_path: relative path to the desired image\n",
    "    \"\"\"\n",
    "    \n",
    "    # Get a pixel array of the given image\n",
    "    pixel_arr = image.imread(image_path)\n",
    "\n",
    "    # Get dimentions of the given image\n",
    "    length, height, depth = pixel_arr.shape\n",
    "    \n",
    "    # Return reshaped 1-D array\n",
    "    return pixel_arr.reshape((length * height * depth, 1))"
   ]
  },
  {
   "cell_type": "code",
   "execution_count": 43,
   "id": "c915ad4f",
   "metadata": {},
   "outputs": [
    {
     "data": {
      "text/plain": [
       "'train/TRUMPTER SWAN/001.jpg'"
      ]
     },
     "execution_count": 43,
     "metadata": {},
     "output_type": "execute_result"
    }
   ],
   "source": [
    "data_path= os.path.join(\"dataset\", \"10_Bird_Species_train.csv\")\n",
    "traindf = pd.read_csv(data_path)\n",
    "traindf.head(5)\n",
    "traindf.at[0,'path']"
   ]
  },
  {
   "cell_type": "code",
   "execution_count": 44,
   "id": "aa664507",
   "metadata": {},
   "outputs": [],
   "source": [
    "for x in range(0,1410):\n",
    "    traindf.at[x,'path'] =convert_to_feature_vector(r\"./\"+str(traindf.at[x,'path']))"
   ]
  },
  {
   "cell_type": "code",
   "execution_count": 45,
   "id": "dec7b919",
   "metadata": {},
   "outputs": [
    {
     "data": {
      "text/plain": [
       "array([[ 47],\n",
       "       [ 73],\n",
       "       [110],\n",
       "       ...,\n",
       "       [ 24],\n",
       "       [ 39],\n",
       "       [ 62]], dtype=uint8)"
      ]
     },
     "execution_count": 45,
     "metadata": {},
     "output_type": "execute_result"
    }
   ],
   "source": [
    "traindf.at[0,'path']"
   ]
  },
  {
   "cell_type": "code",
   "execution_count": null,
   "id": "5aa706ca",
   "metadata": {},
   "outputs": [],
   "source": []
  }
 ],
 "metadata": {
  "kernelspec": {
   "display_name": "Python 3",
   "language": "python",
   "name": "python3"
  },
  "language_info": {
   "codemirror_mode": {
    "name": "ipython",
    "version": 3
   },
   "file_extension": ".py",
   "mimetype": "text/x-python",
   "name": "python",
   "nbconvert_exporter": "python",
   "pygments_lexer": "ipython3",
   "version": "3.8.12"
  }
 },
 "nbformat": 4,
 "nbformat_minor": 5
}
